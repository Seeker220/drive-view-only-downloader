{
  "cells": [
    {
      "cell_type": "markdown",
      "metadata": {
        "id": "view-in-github",
        "colab_type": "text"
      },
      "source": [
        "<a href=\"https://colab.research.google.com/github/Seeker220/drive-view-only-downloader/blob/main/GDrive_View_Only_Download.ipynb\" target=\"_parent\"><img src=\"https://colab.research.google.com/assets/colab-badge.svg\" alt=\"Open In Colab\"/></a>"
      ]
    },
    {
      "cell_type": "markdown",
      "metadata": {
        "id": "gRDgHeY9jnvi"
      },
      "source": [
        "# Download View Only PDF:\n"
      ]
    },
    {
      "cell_type": "markdown",
      "source": [
        "## Install Dependencies"
      ],
      "metadata": {
        "id": "mPta2Y1fH-D6"
      }
    },
    {
      "cell_type": "code",
      "source": [
        "!pip install img2pdf"
      ],
      "metadata": {
        "id": "wwa7AqOwH3pZ"
      },
      "execution_count": null,
      "outputs": []
    },
    {
      "cell_type": "markdown",
      "source": [
        "## Follow these steps\n",
        "1. Mount your Drive, copy the Destination Folder path and paste it below.\n",
        "2. Open the publicly shared PDF in an Incognito tab (ensure it’s accessible by anyone with the link).\n",
        "3. Open Developer Tools and go to the Network tab.\n",
        "4. Zoom in on the first page of the PDF.\n",
        "5. In the Network tab, look for URLs like:\n",
        "`img?ck=drive&....&page=0&...&w=3200&...`\n",
        "Select the URL with the highest value of `w`.\n",
        "6. Right-click on the URL and select `Copy` > `Copy URL`.\n",
        "7. Run the script, when asked paste the url, type number of pages, and filename. Enjoy!"
      ],
      "metadata": {
        "id": "xJYnOpvsIH8M"
      }
    },
    {
      "cell_type": "code",
      "execution_count": null,
      "metadata": {
        "cellView": "form",
        "id": "82Ykb0xDmAhc"
      },
      "outputs": [],
      "source": [
        "dest = \"/content/drive/MyDrive\" # @param {\"type\":\"string\",\"placeholder\":\"Destination Folder\"}\n",
        "import os\n",
        "import shutil\n",
        "import requests\n",
        "from concurrent.futures import ThreadPoolExecutor, as_completed\n",
        "from tqdm import tqdm\n",
        "from urllib.parse import urlparse, parse_qs, urlencode, urlunparse\n",
        "import img2pdf\n",
        "\n",
        "# Create images directory\n",
        "images_dir = \"images\"\n",
        "os.makedirs(images_dir, exist_ok=True)\n",
        "\n",
        "# Function to download an image\n",
        "def download_image(url, filename):\n",
        "    headers = {\n",
        "        \"User-Agent\": \"Mozilla/5.0 (Windows NT 10.0; Win64; x64) AppleWebKit/537.36 (KHTML, like Gecko) Chrome/123.0.0.0 Safari/537.36\"\n",
        "    }\n",
        "    response = requests.get(url, headers=headers, stream=True)\n",
        "    if response.status_code == 200:\n",
        "        with open(filename, \"wb\") as file:\n",
        "            for chunk in response.iter_content(1024):\n",
        "                file.write(chunk)\n",
        "    return filename if response.status_code == 200 else None\n",
        "\n",
        "# Get user inputs\n",
        "first_url = input(\"Enter the first image URL: \")\n",
        "total_pages = int(input(\"Enter the total number of pages: \"))\n",
        "pdf_filename = input(\"Enter the PDF file name (without .pdf): \") + \".pdf\"\n",
        "pdf_filename = dest+\"/\"+pdf_filename\n",
        "# Parse the URL\n",
        "parsed_url = urlparse(first_url)\n",
        "query_params = parse_qs(parsed_url.query)\n",
        "\n",
        "image_filenames = []\n",
        "\n",
        "# Prepare URLs for all pages\n",
        "download_tasks = []\n",
        "for page in range(total_pages):\n",
        "    query_params[\"page\"] = [str(page)]\n",
        "    new_query = urlencode(query_params, doseq=True)\n",
        "    new_url = urlunparse(parsed_url._replace(query=new_query))\n",
        "    filename = os.path.join(images_dir, f\"page_{page}.webp\")\n",
        "    download_tasks.append((new_url, filename))\n",
        "\n",
        "# Download images in parallel\n",
        "print(\"\\nDownloading images...\\n\")\n",
        "with ThreadPoolExecutor(max_workers=10) as executor:  # Adjust thread count as needed\n",
        "    future_to_filename = {executor.submit(download_image, url, filename): filename for url, filename in download_tasks}\n",
        "\n",
        "    with tqdm(total=total_pages, desc=\"Progress\", unit=\"page\", bar_format='{l_bar}{bar}| {n_fmt}/{total_fmt} pages', colour='green') as pbar:\n",
        "        for future in as_completed(future_to_filename):\n",
        "            filename = future_to_filename[future]\n",
        "            if future.result():\n",
        "                image_filenames.append(filename)\n",
        "            pbar.update(1)\n",
        "\n",
        "# Sort filenames to maintain order\n",
        "image_filenames.sort(key=lambda x: int(x.split(\"_\")[-1].split(\".\")[0]))\n",
        "\n",
        "# Convert images to PDF using img2pdf\n",
        "print(\"\\nMerging images into PDF...\\n\")\n",
        "with open(pdf_filename, \"wb\") as f:\n",
        "    f.write(img2pdf.convert(image_filenames))\n",
        "\n",
        "# Cleanup: Delete images directory\n",
        "shutil.rmtree(images_dir)\n",
        "\n",
        "print(f\"\\n✅ PDF saved as {pdf_filename} (Images deleted) 🚀\")\n"
      ]
    },
    {
      "cell_type": "markdown",
      "metadata": {
        "id": "pgwS6ztuqxSH"
      },
      "source": [
        "# Download View Only Video:"
      ]
    },
    {
      "cell_type": "markdown",
      "source": [
        "## Install Dependencies"
      ],
      "metadata": {
        "id": "hHN9Zt-cIkVX"
      }
    },
    {
      "cell_type": "code",
      "source": [
        "!pip install yt-dlp\n",
        "!apt update && apt install -y aria2\n",
        "!apt update && apt install -y ffmpeg"
      ],
      "metadata": {
        "id": "54uhBf_1IoRm"
      },
      "execution_count": null,
      "outputs": []
    },
    {
      "cell_type": "markdown",
      "source": [
        "## Follow these steps\n",
        "1. Mount your Drive, copy the Destination Folder path and paste it below.\n",
        "2. Enter filename without extension.\n",
        "3. Enter the drive view-only video link. Make sure it is publicly accessible and looks like `https://drive.google.com/file/d/..../view`"
      ],
      "metadata": {
        "id": "E1Io8LImIsSQ"
      }
    },
    {
      "cell_type": "code",
      "execution_count": null,
      "metadata": {
        "id": "CKCF1hYKqxSH",
        "cellView": "form"
      },
      "outputs": [],
      "source": [
        "dest = \"/content/drive/MyDrive\" # @param {\"type\":\"string\",\"placeholder\":\"Destination Folder\"}\n",
        "filename = \"video\" # @param {\"type\":\"string\",\"placeholder\":\"File Name without Extension\"}\n",
        "video_url = \"\" # @param {\"type\":\"string\",\"placeholder\":\"Enter Drive View Only Link\"}\n",
        "!yt-dlp --downloader aria2c -o \"{dest}/{filename}.%(ext)s\" \"{video_url}\""
      ]
    }
  ],
  "metadata": {
    "colab": {
      "provenance": [],
      "mount_file_id": "1GUmsEw2n6amYTEfWGCBiEvl7JM7Ngbuw",
      "authorship_tag": "ABX9TyOFsIJXtPKM+H3cNRa6LnrI",
      "include_colab_link": true
    },
    "kernelspec": {
      "display_name": "Python 3",
      "name": "python3"
    },
    "language_info": {
      "name": "python"
    }
  },
  "nbformat": 4,
  "nbformat_minor": 0
}